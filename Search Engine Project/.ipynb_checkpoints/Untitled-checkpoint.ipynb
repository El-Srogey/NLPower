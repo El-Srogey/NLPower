{
 "cells": [
  {
   "cell_type": "code",
   "execution_count": 2,
   "id": "7d0f0f3a",
   "metadata": {},
   "outputs": [],
   "source": [
    "# class DBStorage:\n",
    "#     def __init__(self):\n",
    "#         # create a connection once class instantiated for a DB called links\n",
    "#         self.sql_connect = sqlite3.connect('links.db')\n",
    "#         self.create_table()\n",
    "        \n",
    "    \n",
    "#     def create_table(self):\n",
    "#         '''\n",
    "#             1. Make a DB connection\n",
    "#             2. Init the cursor\n",
    "#             3. The results table query (Create)\n",
    "#             4. Commit The Changes\n",
    "#         '''\n",
    "        \n",
    "#         # create sql cursor to treats our sql operations\n",
    "#         cursor = self.sql_connect.cursor()\n",
    "        \n",
    "#         table_query = '''\n",
    "#             CREATE TABLE IF NOT EXISTS results(\n",
    "#                 id INTEGER PRIMARY KEY,  -- result_id\n",
    "#                 query TEXT,\n",
    "#                 rank INTEGER,  -- result page rank\n",
    "#                 link TEXT,  \n",
    "#                 snippet TEXT,  -- page desc\n",
    "#                 html TEXT,   -- scraped page html\n",
    "#                 title TEXT,  -- page title\n",
    "#                 created DATATIME,  -- query time\n",
    "#                 relevance INTEGER, -- ML purposes\n",
    "#                 UNIQUE(query, link)  -- prevent getting the same link for the same query\n",
    "#             );\n",
    "#         '''\n",
    "#         cursor.execute(table_query)\n",
    "#         self.sql_connect.commit() \n",
    "#         cursor.close()\n",
    "        \n",
    "\n",
    "#     def insert_rows(self, values):\n",
    "#         cursor = self.sql_connect.cursor()\n",
    "#         # will try to insert the values into the DB\n",
    "#         try:\n",
    "#             # ??? to make sure values are formatted correctly\n",
    "#             cursor.execute('INSERT INTO results (query, rank, link, title, snippet, html, created) VALUES(?, ?, ?, ?, ?, ?, ?)', values)\n",
    "#             self.sql_connect.commit()\n",
    "#         except Exception as e:\n",
    "#             print(f\"An error occurred: {e}\")\n",
    "#         cursor.close()  \n",
    "        \n",
    "        \n",
    "#     def query_results(self, query):\n",
    "#         df = pd.read_sql(f\"SELECT * FROM results r WHERE r.query = '{query}' ORDER BY rank;\", self.sql_connect)\n",
    "#         return df"
   ]
  },
  {
   "cell_type": "code",
   "execution_count": 3,
   "id": "5c33cd9f",
   "metadata": {},
   "outputs": [],
   "source": [
    "# # The search (Quering) API\n",
    "\n",
    "# from settings import *\n",
    "# import requests\n",
    "# import pandas as pd\n",
    "# from storage import DBStorage\n",
    "# from urllib.parse import quote_plus\n",
    "# from time import time\n",
    "\n",
    "\n",
    "# def search_api(query, pages = (RESULT_COUNT // 10)): # RESULT_COUNT: num_of_pages ---> settings.py\n",
    "#     results = []\n",
    "#     for i in range(pages):\n",
    "#         start = i * 10 + 1  # rank for each first result (in page 1: 1st record = 1, 2nd = 11)\n",
    "#         url = SEARCH_URL.format(\n",
    "#             key=SEARCH_KEY,\n",
    "#             cx=SEARCH_ID,\n",
    "#             query=quote_plus(query),  # to format special chars in query if any\n",
    "#             start = start\n",
    "#         )\n",
    "#         # Reminder: SEARCH_URL = \"https://www.googleapis.com/customsearch/v1?key={key}&cx={cx}&q={query}&start={start}&num=10&gl=\" + COUNTRY\n",
    "        \n",
    "#         result = requests.get(url)\n",
    "#         data = result.json()  # convert from json to dict\n",
    "#         results += (data['items'])  # concatnate not append\n",
    "        \n",
    "#     res_df = pd.DataFrame.from_dict(results)\n",
    "#     res_df['rank'] = list(range(1, res_df.shape[0] + 1))\n",
    "#     res_df = res_df[['link', 'title', 'rank', 'snippet']]\n",
    "    \n",
    "#     return res_df\n",
    "\n",
    "# def scrape(links):\n",
    "#     html = []\n",
    "#     for link in links:\n",
    "#         try:\n",
    "#             result = requests.get(link, timeout=5)\n",
    "#             html.append(result.text)\n",
    "#         except:\n",
    "#             pass\n",
    "#     return html\n",
    "\n",
    "\n",
    "# def search(query):\n",
    "#     columns = ['query', 'rank', 'link','title', 'snippet', 'html', 'created']\n",
    "#     db = DBStorage()\n",
    "    \n",
    "#     # if the query result is in the DB already\n",
    "#     if db.query_results(query).shape[0] >= 1:  # if the res_df contains any records\n",
    "#         result = db.query_results(query)\n",
    "#         result['created'] = pd.to_datetime(result['created'])  \n",
    "#         return result[columns]   # get from the results table only (column)\n",
    "    \n",
    "#     # else (query result not in the DB)\n",
    "#     res_df = search_api(query)  # return ('link', 'title', 'rank', 'snippet') columns\n",
    "#     res_df['query'] = query \n",
    "#     res_df['created'] = time()\n",
    "#     html = scrape(res_df['link'])  \n",
    "#     res_df['html'] = html\n",
    "#     res_df = res_df[columns]  # make it's in the right order as should be inserted into DB\n",
    "    \n",
    "#     res_df.apply(lambda x: db.insert_rows(x), axis=1)\n",
    "#     return res_df"
   ]
  },
  {
   "cell_type": "code",
   "execution_count": 9,
   "id": "bf5fa19c",
   "metadata": {},
   "outputs": [],
   "source": [
    "def scrape(row):\n",
    "    soup = BeautifulSoup(row['html'])\n",
    "    page_content = soup.get_text()\n",
    "    page_content = page_content.lower()\n",
    "    page_content = re.sub(\"[^a-z1-9 ]\", \"\", page_content)  # remove special chars\n",
    "    page_content = page_content.split()\n",
    "    page_content = ' '.join(page_content)\n",
    "    return page_content.strip()"
   ]
  },
  {
   "cell_type": "code",
   "execution_count": 10,
   "id": "c794ee41",
   "metadata": {},
   "outputs": [],
   "source": [
    "en_stopwords = stopwords.words('English')\n",
    "def query_freq(row):\n",
    "    content = scrape(row)\n",
    "    query_words = row['query'].strip().split()\n",
    "    # remove stopword from query if any\n",
    "    for word in query_words:\n",
    "        if word in en_stopwords:\n",
    "            querey_words.remove(word)\n",
    "    \n",
    "    counts = [content.count(word.lower()) for word in query_words]  # freq of each wrod\n",
    "    result = sum(counts)\n",
    "    return result"
   ]
  },
  {
   "cell_type": "code",
   "execution_count": 11,
   "id": "dd7783c3",
   "metadata": {},
   "outputs": [],
   "source": [
    "# to test\n",
    "import sqlite3\n",
    "import pandas as pd\n",
    "from search import search\n",
    "from Filter import Filter\n",
    "from bs4 import BeautifulSoup\n",
    "import re\n",
    "from nltk.corpus import stopwords"
   ]
  },
  {
   "cell_type": "code",
   "execution_count": 12,
   "id": "f122f1a0",
   "metadata": {
    "scrolled": true
   },
   "outputs": [],
   "source": [
    "connect = sqlite3.connect('links.db')\n",
    "test = pd.read_sql(f\"SELECT * FROM results r WHERE r.query = 'Best TV' ORDER BY rank;\", connect)"
   ]
  },
  {
   "cell_type": "code",
   "execution_count": 14,
   "id": "cd06af1f",
   "metadata": {},
   "outputs": [],
   "source": [
    "fil = Filter(test)\n",
    "test = fil.filter_count()"
   ]
  },
  {
   "cell_type": "code",
   "execution_count": 16,
   "id": "2392078d",
   "metadata": {},
   "outputs": [],
   "source": [
    "content = scrape(test.iloc[0,:])"
   ]
  },
  {
   "cell_type": "code",
   "execution_count": 26,
   "id": "7eb70783",
   "metadata": {},
   "outputs": [
    {
     "name": "stdout",
     "output_type": "stream",
     "text": [
      "Winners are:\n",
      "\n"
     ]
    }
   ],
   "source": [
    "import openai\n",
    "from settings import *\n",
    "\n",
    "openai.key = OPENAI_KEY\n",
    "\n",
    "model = 'gpt-3.5-turbo'\n",
    "max_tokens = 1024\n",
    "temp = .5\n",
    "prompt = f'Summarize the content of the following page: {content}'\n",
    "\n",
    "\n",
    "response = openai.Completion.create(\n",
    "  engine=model,\n",
    "  prompt=prompt,\n",
    "  max_tokens=max_tokens,\n",
    "  temperature=temp,  # When temperature is above 0, submitting the same prompt results in different completions each time.\n",
    "  stop = None,   #  It is used to make the model stop at a desired point, such as the end of a sentence or a list\n",
    "  n=1\n",
    ")"
   ]
  },
  {
   "cell_type": "markdown",
   "id": "2c217bd5",
   "metadata": {},
   "source": [
    "__Start__"
   ]
  },
  {
   "cell_type": "code",
   "execution_count": 4,
   "id": "bcf59c3c",
   "metadata": {},
   "outputs": [],
   "source": [
    "from flask import Flask, render_template, request\n",
    "from search import search\n",
    "from time import time\n",
    "from Filter import Filter"
   ]
  },
  {
   "cell_type": "code",
   "execution_count": 5,
   "id": "a760b612",
   "metadata": {
    "scrolled": true
   },
   "outputs": [
    {
     "name": "stdout",
     "output_type": "stream",
     "text": [
      " * Serving Flask app \"__main__\" (lazy loading)\n",
      " * Environment: production\n",
      "\u001b[31m   WARNING: This is a development server. Do not use it in a production deployment.\u001b[0m\n",
      "\u001b[2m   Use a production WSGI server instead.\u001b[0m\n",
      " * Debug mode: off\n"
     ]
    },
    {
     "name": "stderr",
     "output_type": "stream",
     "text": [
      " * Running on http://127.0.0.1:5000/ (Press CTRL+C to quit)\n",
      "127.0.0.1 - - [04/Apr/2023 00:40:11] \"GET / HTTP/1.1\" 200 -\n",
      "127.0.0.1 - - [04/Apr/2023 00:40:11] \"GET /favicon.ico HTTP/1.1\" 404 -\n",
      "127.0.0.1 - - [04/Apr/2023 00:40:16] \"GET /result?query=Best+TV HTTP/1.1\" 200 -\n"
     ]
    }
   ],
   "source": [
    "app = Flask(__name__)\n",
    "\n",
    "@app.route('/')\n",
    "def main():\n",
    "    return render_template('home.html')\n",
    "\n",
    "@app.route('/result')\n",
    "def result():\n",
    "    query = request.args['query']\n",
    "    tic = time()\n",
    "    res_df = search(query)  # searching the API or DB\n",
    "    toc = time()\n",
    "    \n",
    "    fl = Filter(res_df)\n",
    "    res_df = fl.filter_count()\n",
    "    \n",
    "    res_df = res_df[['title', 'snippet', 'link', 'created']]\n",
    "    return render_template('result.html', table=res_df, search_time=toc-tic, query=query)\n",
    "\n",
    "app.run()"
   ]
  },
  {
   "cell_type": "code",
   "execution_count": null,
   "id": "7987a650",
   "metadata": {},
   "outputs": [],
   "source": []
  }
 ],
 "metadata": {
  "kernelspec": {
   "display_name": "Python 3 (ipykernel)",
   "language": "python",
   "name": "python3"
  },
  "language_info": {
   "codemirror_mode": {
    "name": "ipython",
    "version": 3
   },
   "file_extension": ".py",
   "mimetype": "text/x-python",
   "name": "python",
   "nbconvert_exporter": "python",
   "pygments_lexer": "ipython3",
   "version": "3.9.7"
  }
 },
 "nbformat": 4,
 "nbformat_minor": 5
}
