{
 "cells": [
  {
   "cell_type": "markdown",
   "id": "f9d85d82",
   "metadata": {},
   "source": [
    "# Just To-Test The APP"
   ]
  },
  {
   "cell_type": "code",
   "execution_count": 1,
   "id": "f74d6d8a",
   "metadata": {},
   "outputs": [],
   "source": [
    "from flask import Flask, jsonify, render_template_string, request, render_template\n",
    "from matplotlib.pyplot import flag\n",
    "import pandas as pd\n",
    "from app import TextClassification"
   ]
  },
  {
   "cell_type": "code",
   "execution_count": 2,
   "id": "57a42578",
   "metadata": {},
   "outputs": [],
   "source": [
    "df = pd.read_csv('y7.csv')"
   ]
  },
  {
   "cell_type": "code",
   "execution_count": 3,
   "id": "d8a13493",
   "metadata": {},
   "outputs": [],
   "source": [
    "df.drop('Unnamed: 0', inplace=True, axis=1)"
   ]
  },
  {
   "cell_type": "code",
   "execution_count": 4,
   "id": "254cf467",
   "metadata": {},
   "outputs": [
    {
     "name": "stderr",
     "output_type": "stream",
     "text": [
      "[2022-05-31 13:55:46,986 - farasapy_logger - WARNING]: Be careful with large lines as they may break on interactive mode. You may switch to Standalone mode for such cases.\n"
     ]
    }
   ],
   "source": [
    "tc = TextClassification(df)"
   ]
  },
  {
   "cell_type": "code",
   "execution_count": 12,
   "id": "4d3c6393",
   "metadata": {
    "scrolled": true
   },
   "outputs": [
    {
     "data": {
      "text/plain": [
       "0"
      ]
     },
     "execution_count": 12,
     "metadata": {},
     "output_type": "execute_result"
    }
   ],
   "source": [
    "tc.urls.duplicated().sum()"
   ]
  },
  {
   "cell_type": "code",
   "execution_count": 5,
   "id": "e918f0db",
   "metadata": {},
   "outputs": [],
   "source": [
    "urls = tc.predict(tc.urls[0][0])"
   ]
  },
  {
   "cell_type": "code",
   "execution_count": 7,
   "id": "20d78ebb",
   "metadata": {},
   "outputs": [
    {
     "data": {
      "text/html": [
       "<div>\n",
       "<style scoped>\n",
       "    .dataframe tbody tr th:only-of-type {\n",
       "        vertical-align: middle;\n",
       "    }\n",
       "\n",
       "    .dataframe tbody tr th {\n",
       "        vertical-align: top;\n",
       "    }\n",
       "\n",
       "    .dataframe thead th {\n",
       "        text-align: right;\n",
       "    }\n",
       "</style>\n",
       "<table border=\"1\" class=\"dataframe\">\n",
       "  <thead>\n",
       "    <tr style=\"text-align: right;\">\n",
       "      <th></th>\n",
       "      <th>imgs</th>\n",
       "      <th>links</th>\n",
       "      <th>creators</th>\n",
       "    </tr>\n",
       "  </thead>\n",
       "  <tbody>\n",
       "    <tr>\n",
       "      <th>0</th>\n",
       "      <td>https://img.youm7.com/medium/20220511114740474...</td>\n",
       "      <td>https://www.youm7.com/story/2022/5/30/الأهلى-ي...</td>\n",
       "      <td>لبنى عبد الله</td>\n",
       "    </tr>\n",
       "    <tr>\n",
       "      <th>1</th>\n",
       "      <td>https://img.youm7.com/medium/20220527103119311...</td>\n",
       "      <td>https://www.youm7.com/story/2022/5/30/الأهلي-ض...</td>\n",
       "      <td>لبنى عبد الله</td>\n",
       "    </tr>\n",
       "    <tr>\n",
       "      <th>2</th>\n",
       "      <td>https://img.youm7.com/medium/20220215053303333...</td>\n",
       "      <td>https://www.youm7.com/story/2022/5/30/الأهلى-ض...</td>\n",
       "      <td>لبنى عبد الله</td>\n",
       "    </tr>\n",
       "    <tr>\n",
       "      <th>3</th>\n",
       "      <td>https://img.youm7.com/medium/20220526124712471...</td>\n",
       "      <td>https://www.youm7.com/story/2022/5/30/بعد-10-م...</td>\n",
       "      <td>لبنى عبد الله</td>\n",
       "    </tr>\n",
       "    <tr>\n",
       "      <th>4</th>\n",
       "      <td>https://img.youm7.com/medium/20220423044452445...</td>\n",
       "      <td>https://www.youm7.com/story/2022/5/30/10-أرقام...</td>\n",
       "      <td>لبنى عبد الله</td>\n",
       "    </tr>\n",
       "  </tbody>\n",
       "</table>\n",
       "</div>"
      ],
      "text/plain": [
       "                                                imgs  \\\n",
       "0  https://img.youm7.com/medium/20220511114740474...   \n",
       "1  https://img.youm7.com/medium/20220527103119311...   \n",
       "2  https://img.youm7.com/medium/20220215053303333...   \n",
       "3  https://img.youm7.com/medium/20220526124712471...   \n",
       "4  https://img.youm7.com/medium/20220423044452445...   \n",
       "\n",
       "                                               links       creators  \n",
       "0  https://www.youm7.com/story/2022/5/30/الأهلى-ي...  لبنى عبد الله  \n",
       "1  https://www.youm7.com/story/2022/5/30/الأهلي-ض...  لبنى عبد الله  \n",
       "2  https://www.youm7.com/story/2022/5/30/الأهلى-ض...  لبنى عبد الله  \n",
       "3  https://www.youm7.com/story/2022/5/30/بعد-10-م...  لبنى عبد الله  \n",
       "4  https://www.youm7.com/story/2022/5/30/10-أرقام...  لبنى عبد الله  "
      ]
     },
     "execution_count": 7,
     "metadata": {},
     "output_type": "execute_result"
    }
   ],
   "source": [
    "urls"
   ]
  },
  {
   "cell_type": "code",
   "execution_count": 10,
   "id": "dc0ff010",
   "metadata": {},
   "outputs": [
    {
     "data": {
      "text/plain": [
       "'https://www.youm7.com/story/2022/5/30/الأهلي-يصل-ملعب-محمد-الخامس-بالمغرب-لخوض-نهائي-أفريقيا-أمام/5781943'"
      ]
     },
     "execution_count": 10,
     "metadata": {},
     "output_type": "execute_result"
    }
   ],
   "source": [
    "df.links[10]"
   ]
  },
  {
   "cell_type": "code",
   "execution_count": 11,
   "id": "bf2d4a94",
   "metadata": {},
   "outputs": [
    {
     "data": {
      "text/plain": [
       "'https://www.youm7.com/story/2022/5/30/زوجة-موسيماني-تظهر-فى-مدرجات-مباراة-الأهلي-والوداد-بنهائى-أفريقيا/5782150'"
      ]
     },
     "execution_count": 11,
     "metadata": {},
     "output_type": "execute_result"
    }
   ],
   "source": [
    "df.links[5]"
   ]
  },
  {
   "cell_type": "markdown",
   "id": "80f6c2a3",
   "metadata": {},
   "source": [
    "__!!!!__"
   ]
  },
  {
   "cell_type": "code",
   "execution_count": 1,
   "id": "3b80a85c",
   "metadata": {},
   "outputs": [],
   "source": [
    "from app import TextClassification"
   ]
  },
  {
   "cell_type": "code",
   "execution_count": 2,
   "id": "1444ba93",
   "metadata": {
    "scrolled": true
   },
   "outputs": [
    {
     "name": "stderr",
     "output_type": "stream",
     "text": [
      "[2023-05-11 01:24:53,147 - farasapy_logger - WARNING]: Be careful with large lines as they may break on interactive mode. You may switch to Standalone mode for such cases.\n"
     ]
    }
   ],
   "source": [
    "tcf = TextClassification()"
   ]
  },
  {
   "cell_type": "code",
   "execution_count": 4,
   "id": "37a1e1ef",
   "metadata": {},
   "outputs": [
    {
     "name": "stdout",
     "output_type": "stream",
     "text": [
      "imgs\n",
      "links\n",
      "creators\n",
      "dates\n",
      "brief_articles\n",
      "text\n"
     ]
    }
   ],
   "source": [
    "for row in tcf.predict(tcf.urls[0][39]):\n",
    "    print(row)"
   ]
  },
  {
   "cell_type": "code",
   "execution_count": 9,
   "id": "e7a63f72",
   "metadata": {},
   "outputs": [],
   "source": [
    "from scrap import Scrap"
   ]
  },
  {
   "cell_type": "code",
   "execution_count": 10,
   "id": "5ddd4dfd",
   "metadata": {},
   "outputs": [],
   "source": [
    "s = Scrap()"
   ]
  },
  {
   "cell_type": "code",
   "execution_count": 11,
   "id": "6d43e718",
   "metadata": {},
   "outputs": [],
   "source": [
    "s.scrap(1)"
   ]
  },
  {
   "cell_type": "code",
   "execution_count": 12,
   "id": "481becdb",
   "metadata": {},
   "outputs": [],
   "source": [
    "import pandas as pd"
   ]
  },
  {
   "cell_type": "code",
   "execution_count": 13,
   "id": "9a898827",
   "metadata": {},
   "outputs": [
    {
     "data": {
      "text/html": [
       "<div>\n",
       "<style scoped>\n",
       "    .dataframe tbody tr th:only-of-type {\n",
       "        vertical-align: middle;\n",
       "    }\n",
       "\n",
       "    .dataframe tbody tr th {\n",
       "        vertical-align: top;\n",
       "    }\n",
       "\n",
       "    .dataframe thead th {\n",
       "        text-align: right;\n",
       "    }\n",
       "</style>\n",
       "<table border=\"1\" class=\"dataframe\">\n",
       "  <thead>\n",
       "    <tr style=\"text-align: right;\">\n",
       "      <th></th>\n",
       "      <th>Unnamed: 0</th>\n",
       "      <th>titles</th>\n",
       "      <th>dates</th>\n",
       "      <th>brief_articles</th>\n",
       "      <th>links</th>\n",
       "      <th>imgs</th>\n",
       "      <th>key_words</th>\n",
       "      <th>creators</th>\n",
       "      <th>text</th>\n",
       "      <th>Unnamed: 0.1</th>\n",
       "    </tr>\n",
       "  </thead>\n",
       "  <tbody>\n",
       "    <tr>\n",
       "      <th>0</th>\n",
       "      <td>0</td>\n",
       "      <td>أخبار نادى الزمالك اليوم 10 / 5 / 2023</td>\n",
       "      <td>الأربعاء، 10 مايو 2023 10:20 م</td>\n",
       "      <td>شهد نادى الزمالك اليوم الأربعاء 10 / 5 / 2023 ...</td>\n",
       "      <td>https://www.youm7.com/story/2023/5/10/أخبار-نا...</td>\n",
       "      <td>https://img.youm7.com/medium/20230509075451545...</td>\n",
       "      <td>الزمالك بروكسى كاس مصر كأس مصر مواعيد كاس مصر</td>\n",
       "      <td>هيثم عويس</td>\n",
       "      <td>أخبار نادى الزمالك اليوم 10 / 5 / 2023 هيثم عو...</td>\n",
       "      <td>NaN</td>\n",
       "    </tr>\n",
       "    <tr>\n",
       "      <th>1</th>\n",
       "      <td>1</td>\n",
       "      <td>الزمالك يواجه فاركو في ثمن نهائي كأس مصر</td>\n",
       "      <td>الأربعاء، 10 مايو 2023 10:00 م</td>\n",
       "      <td>ضرب فريق فاركو موعدا مع الزمالك في ثمن نهائي ك...</td>\n",
       "      <td>https://www.youm7.com/story/2023/5/10/الزمالك-...</td>\n",
       "      <td>https://img.youm7.com/medium/20230509075451545...</td>\n",
       "      <td>الزمالك أخبار الزمالك الزمالك في الدوري الدورى...</td>\n",
       "      <td>حسن السعدنى</td>\n",
       "      <td>الزمالك يواجه فاركو في ثمن نهائي كأس مصر حسن ا...</td>\n",
       "      <td>NaN</td>\n",
       "    </tr>\n",
       "    <tr>\n",
       "      <th>2</th>\n",
       "      <td>2</td>\n",
       "      <td>بعثة طائرة رجال الزمالك تصل تونس لخوض البطولة ...</td>\n",
       "      <td>الأربعاء، 10 مايو 2023 09:55 م</td>\n",
       "      <td>وصلت بعثة فريق رجال الكرة الطائرة بنادى الزمال...</td>\n",
       "      <td>https://www.youm7.com/story/2023/5/10/بعثة-طائ...</td>\n",
       "      <td>https://img.youm7.com/medium/20230510094346434...</td>\n",
       "      <td>الكرة الطائرة الزمالك سيدات الطائرة اخبار الري...</td>\n",
       "      <td>ندى مجاهد</td>\n",
       "      <td>بعثة طائرة رجال الزمالك تصل تونس لخوض البطولة ...</td>\n",
       "      <td>NaN</td>\n",
       "    </tr>\n",
       "    <tr>\n",
       "      <th>3</th>\n",
       "      <td>3</td>\n",
       "      <td>فيوتشر يتقدم على طلائع الأسطول بهاتريك لمروان ...</td>\n",
       "      <td>الأربعاء، 10 مايو 2023 09:55 م</td>\n",
       "      <td>تقدم فريق فيوتشر على نظيره طلائع الأسطوال بثلا...</td>\n",
       "      <td>https://www.youm7.com/story/2023/5/10/فيوتشر-ي...</td>\n",
       "      <td>https://img.youm7.com/medium/20230311020656656...</td>\n",
       "      <td>مروان محسن فيوتشر كأس مصر طلائع الاسطوال ستاد ...</td>\n",
       "      <td>عمر مراد</td>\n",
       "      <td>فيوتشر يتقدم على طلائع الأسطول بهاتريك لمروان ...</td>\n",
       "      <td>NaN</td>\n",
       "    </tr>\n",
       "    <tr>\n",
       "      <th>4</th>\n",
       "      <td>4</td>\n",
       "      <td>موعد مباراة الإسماعيلي والزمالك في الدوري المصري</td>\n",
       "      <td>الأربعاء، 10 مايو 2023 09:46 م</td>\n",
       "      <td>يبحث عشاق الكرة المصرية عن موعد مباراة الإسماع...</td>\n",
       "      <td>https://www.youm7.com/story/2023/5/10/موعد-مبا...</td>\n",
       "      <td>https://img.youm7.com/medium/20221229084052405...</td>\n",
       "      <td>الزمالك والاسماعيلى الدوري المصري مواعيد الدور...</td>\n",
       "      <td>حسن السعدنى</td>\n",
       "      <td>موعد مباراة الإسماعيلي والزمالك في الدوري المص...</td>\n",
       "      <td>NaN</td>\n",
       "    </tr>\n",
       "    <tr>\n",
       "      <th>...</th>\n",
       "      <td>...</td>\n",
       "      <td>...</td>\n",
       "      <td>...</td>\n",
       "      <td>...</td>\n",
       "      <td>...</td>\n",
       "      <td>...</td>\n",
       "      <td>...</td>\n",
       "      <td>...</td>\n",
       "      <td>...</td>\n",
       "      <td>...</td>\n",
       "    </tr>\n",
       "    <tr>\n",
       "      <th>75</th>\n",
       "      <td>35</td>\n",
       "      <td>هتافات حماسية لجمهور الأهلى من أمام ملعب محمد ...</td>\n",
       "      <td>الإثنين، 30 مايو 2022 05:35 م</td>\n",
       "      <td>ردد جمهور الأهلى بعض الهتافات الحماسية أمام مر...</td>\n",
       "      <td>https://www.youm7.com/story/2022/5/30/هتافات-ح...</td>\n",
       "      <td>https://img.youm7.com/medium/20220530043112311...</td>\n",
       "      <td>الاهلي والوداد الاهلى والوداد 2022 موعد مباراة...</td>\n",
       "      <td>المغرب _ أحمد عصام _ تصوير مصطفى يحيى</td>\n",
       "      <td>هتافات حماسية لجمهور الأهلى من أمام ملعب محمد ...</td>\n",
       "      <td>35.0</td>\n",
       "    </tr>\n",
       "    <tr>\n",
       "      <th>76</th>\n",
       "      <td>36</td>\n",
       "      <td>يوسف أوباما يقضى إجازة الزمالك على شاطئ البحر</td>\n",
       "      <td>الإثنين، 30 مايو 2022 05:29 م</td>\n",
       "      <td>استغل يوسف أوباما، صانع ألعاب فريق الكرة الأول...</td>\n",
       "      <td>https://www.youm7.com/story/2022/5/30/يوسف-أوب...</td>\n",
       "      <td>https://img.youm7.com/medium/20220530051116111...</td>\n",
       "      <td>يوسف اوباما الزمالك اخبار الزمالك فريق الزمالك...</td>\n",
       "      <td>أحمد طارق</td>\n",
       "      <td>يوسف أوباما يقضى إجازة الزمالك على شاطئ البحر ...</td>\n",
       "      <td>36.0</td>\n",
       "    </tr>\n",
       "    <tr>\n",
       "      <th>77</th>\n",
       "      <td>37</td>\n",
       "      <td>الأهلى ضد الوداد .. تعرف على أغلى 10 لاعبين فى...</td>\n",
       "      <td>الإثنين، 30 مايو 2022 05:20 م</td>\n",
       "      <td>يتطلع فريق الأهلي لتحقيق لإنجاز قاري جديد عندم...</td>\n",
       "      <td>https://www.youm7.com/story/2022/5/30/الأهلى-ض...</td>\n",
       "      <td>https://img.youm7.com/medium/20220215053303333...</td>\n",
       "      <td>الاهلي والوداد الاهلى والوداد 2022 موعد مباراة...</td>\n",
       "      <td>لبنى عبد الله</td>\n",
       "      <td>الأهلى ضد الوداد .. تعرف على أغلى 10 لاعبين فى...</td>\n",
       "      <td>37.0</td>\n",
       "    </tr>\n",
       "    <tr>\n",
       "      <th>78</th>\n",
       "      <td>38</td>\n",
       "      <td>محمد عواد ينتظر نهاية الموسم لتحديد مصيره مع ا...</td>\n",
       "      <td>الإثنين، 30 مايو 2022 05:10 م</td>\n",
       "      <td>ينتظر محمد عواد، حارس مرمى فريق الكرة الأول بن...</td>\n",
       "      <td>https://www.youm7.com/story/2022/5/30/محمد-عوا...</td>\n",
       "      <td>https://img.youm7.com/medium/20190731024820482...</td>\n",
       "      <td>محمد عواد الزمالك اخبار الزمالك فريق الزمالك ا...</td>\n",
       "      <td>أحمد طارق</td>\n",
       "      <td>محمد عواد ينتظر نهاية الموسم لتحديد مصيره مع ا...</td>\n",
       "      <td>38.0</td>\n",
       "    </tr>\n",
       "    <tr>\n",
       "      <th>79</th>\n",
       "      <td>39</td>\n",
       "      <td>معلومة رياضية.. الأندية المصرية تصل لنهائى أفر...</td>\n",
       "      <td>الإثنين، 30 مايو 2022 05:10 م</td>\n",
       "      <td>يلتقى مساء اليوم فريق الأهلى مع الوداد المغربى...</td>\n",
       "      <td>https://www.youm7.com/story/2022/5/30/معلومة-ر...</td>\n",
       "      <td>https://img.youm7.com/medium/20220526053426342...</td>\n",
       "      <td>معلومة رياضية الاهلى الاهلى و الوداد النهائى ا...</td>\n",
       "      <td>ياسمين يحيى</td>\n",
       "      <td>معلومة رياضية.. الأندية المصرية تصل لنهائى أفر...</td>\n",
       "      <td>39.0</td>\n",
       "    </tr>\n",
       "  </tbody>\n",
       "</table>\n",
       "<p>80 rows × 10 columns</p>\n",
       "</div>"
      ],
      "text/plain": [
       "    Unnamed: 0                                             titles  \\\n",
       "0            0             أخبار نادى الزمالك اليوم 10 / 5 / 2023   \n",
       "1            1           الزمالك يواجه فاركو في ثمن نهائي كأس مصر   \n",
       "2            2  بعثة طائرة رجال الزمالك تصل تونس لخوض البطولة ...   \n",
       "3            3  فيوتشر يتقدم على طلائع الأسطول بهاتريك لمروان ...   \n",
       "4            4   موعد مباراة الإسماعيلي والزمالك في الدوري المصري   \n",
       "..         ...                                                ...   \n",
       "75          35  هتافات حماسية لجمهور الأهلى من أمام ملعب محمد ...   \n",
       "76          36      يوسف أوباما يقضى إجازة الزمالك على شاطئ البحر   \n",
       "77          37  الأهلى ضد الوداد .. تعرف على أغلى 10 لاعبين فى...   \n",
       "78          38  محمد عواد ينتظر نهاية الموسم لتحديد مصيره مع ا...   \n",
       "79          39  معلومة رياضية.. الأندية المصرية تصل لنهائى أفر...   \n",
       "\n",
       "                             dates  \\\n",
       "0   الأربعاء، 10 مايو 2023 10:20 م   \n",
       "1   الأربعاء، 10 مايو 2023 10:00 م   \n",
       "2   الأربعاء، 10 مايو 2023 09:55 م   \n",
       "3   الأربعاء، 10 مايو 2023 09:55 م   \n",
       "4   الأربعاء، 10 مايو 2023 09:46 م   \n",
       "..                             ...   \n",
       "75   الإثنين، 30 مايو 2022 05:35 م   \n",
       "76   الإثنين، 30 مايو 2022 05:29 م   \n",
       "77   الإثنين، 30 مايو 2022 05:20 م   \n",
       "78   الإثنين، 30 مايو 2022 05:10 م   \n",
       "79   الإثنين، 30 مايو 2022 05:10 م   \n",
       "\n",
       "                                       brief_articles  \\\n",
       "0   شهد نادى الزمالك اليوم الأربعاء 10 / 5 / 2023 ...   \n",
       "1   ضرب فريق فاركو موعدا مع الزمالك في ثمن نهائي ك...   \n",
       "2   وصلت بعثة فريق رجال الكرة الطائرة بنادى الزمال...   \n",
       "3   تقدم فريق فيوتشر على نظيره طلائع الأسطوال بثلا...   \n",
       "4   يبحث عشاق الكرة المصرية عن موعد مباراة الإسماع...   \n",
       "..                                                ...   \n",
       "75  ردد جمهور الأهلى بعض الهتافات الحماسية أمام مر...   \n",
       "76  استغل يوسف أوباما، صانع ألعاب فريق الكرة الأول...   \n",
       "77  يتطلع فريق الأهلي لتحقيق لإنجاز قاري جديد عندم...   \n",
       "78  ينتظر محمد عواد، حارس مرمى فريق الكرة الأول بن...   \n",
       "79  يلتقى مساء اليوم فريق الأهلى مع الوداد المغربى...   \n",
       "\n",
       "                                                links  \\\n",
       "0   https://www.youm7.com/story/2023/5/10/أخبار-نا...   \n",
       "1   https://www.youm7.com/story/2023/5/10/الزمالك-...   \n",
       "2   https://www.youm7.com/story/2023/5/10/بعثة-طائ...   \n",
       "3   https://www.youm7.com/story/2023/5/10/فيوتشر-ي...   \n",
       "4   https://www.youm7.com/story/2023/5/10/موعد-مبا...   \n",
       "..                                                ...   \n",
       "75  https://www.youm7.com/story/2022/5/30/هتافات-ح...   \n",
       "76  https://www.youm7.com/story/2022/5/30/يوسف-أوب...   \n",
       "77  https://www.youm7.com/story/2022/5/30/الأهلى-ض...   \n",
       "78  https://www.youm7.com/story/2022/5/30/محمد-عوا...   \n",
       "79  https://www.youm7.com/story/2022/5/30/معلومة-ر...   \n",
       "\n",
       "                                                 imgs  \\\n",
       "0   https://img.youm7.com/medium/20230509075451545...   \n",
       "1   https://img.youm7.com/medium/20230509075451545...   \n",
       "2   https://img.youm7.com/medium/20230510094346434...   \n",
       "3   https://img.youm7.com/medium/20230311020656656...   \n",
       "4   https://img.youm7.com/medium/20221229084052405...   \n",
       "..                                                ...   \n",
       "75  https://img.youm7.com/medium/20220530043112311...   \n",
       "76  https://img.youm7.com/medium/20220530051116111...   \n",
       "77  https://img.youm7.com/medium/20220215053303333...   \n",
       "78  https://img.youm7.com/medium/20190731024820482...   \n",
       "79  https://img.youm7.com/medium/20220526053426342...   \n",
       "\n",
       "                                            key_words  \\\n",
       "0       الزمالك بروكسى كاس مصر كأس مصر مواعيد كاس مصر   \n",
       "1   الزمالك أخبار الزمالك الزمالك في الدوري الدورى...   \n",
       "2   الكرة الطائرة الزمالك سيدات الطائرة اخبار الري...   \n",
       "3   مروان محسن فيوتشر كأس مصر طلائع الاسطوال ستاد ...   \n",
       "4   الزمالك والاسماعيلى الدوري المصري مواعيد الدور...   \n",
       "..                                                ...   \n",
       "75  الاهلي والوداد الاهلى والوداد 2022 موعد مباراة...   \n",
       "76  يوسف اوباما الزمالك اخبار الزمالك فريق الزمالك...   \n",
       "77  الاهلي والوداد الاهلى والوداد 2022 موعد مباراة...   \n",
       "78  محمد عواد الزمالك اخبار الزمالك فريق الزمالك ا...   \n",
       "79  معلومة رياضية الاهلى الاهلى و الوداد النهائى ا...   \n",
       "\n",
       "                                 creators  \\\n",
       "0                               هيثم عويس   \n",
       "1                             حسن السعدنى   \n",
       "2                               ندى مجاهد   \n",
       "3                                عمر مراد   \n",
       "4                             حسن السعدنى   \n",
       "..                                    ...   \n",
       "75  المغرب _ أحمد عصام _ تصوير مصطفى يحيى   \n",
       "76                              أحمد طارق   \n",
       "77                          لبنى عبد الله   \n",
       "78                              أحمد طارق   \n",
       "79                            ياسمين يحيى   \n",
       "\n",
       "                                                 text  Unnamed: 0.1  \n",
       "0   أخبار نادى الزمالك اليوم 10 / 5 / 2023 هيثم عو...           NaN  \n",
       "1   الزمالك يواجه فاركو في ثمن نهائي كأس مصر حسن ا...           NaN  \n",
       "2   بعثة طائرة رجال الزمالك تصل تونس لخوض البطولة ...           NaN  \n",
       "3   فيوتشر يتقدم على طلائع الأسطول بهاتريك لمروان ...           NaN  \n",
       "4   موعد مباراة الإسماعيلي والزمالك في الدوري المص...           NaN  \n",
       "..                                                ...           ...  \n",
       "75  هتافات حماسية لجمهور الأهلى من أمام ملعب محمد ...          35.0  \n",
       "76  يوسف أوباما يقضى إجازة الزمالك على شاطئ البحر ...          36.0  \n",
       "77  الأهلى ضد الوداد .. تعرف على أغلى 10 لاعبين فى...          37.0  \n",
       "78  محمد عواد ينتظر نهاية الموسم لتحديد مصيره مع ا...          38.0  \n",
       "79  معلومة رياضية.. الأندية المصرية تصل لنهائى أفر...          39.0  \n",
       "\n",
       "[80 rows x 10 columns]"
      ]
     },
     "execution_count": 13,
     "metadata": {},
     "output_type": "execute_result"
    }
   ],
   "source": [
    "pd.read_csv('y7.csv')"
   ]
  },
  {
   "cell_type": "code",
   "execution_count": null,
   "id": "6520c058",
   "metadata": {},
   "outputs": [],
   "source": [
    "for "
   ]
  }
 ],
 "metadata": {
  "kernelspec": {
   "display_name": "Python 3 (ipykernel)",
   "language": "python",
   "name": "python3"
  },
  "language_info": {
   "codemirror_mode": {
    "name": "ipython",
    "version": 3
   },
   "file_extension": ".py",
   "mimetype": "text/x-python",
   "name": "python",
   "nbconvert_exporter": "python",
   "pygments_lexer": "ipython3",
   "version": "3.9.7"
  }
 },
 "nbformat": 4,
 "nbformat_minor": 5
}
