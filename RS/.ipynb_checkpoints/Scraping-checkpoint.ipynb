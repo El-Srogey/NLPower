{
 "cells": [
  {
   "cell_type": "code",
   "execution_count": 2,
   "id": "37640ae3",
   "metadata": {},
   "outputs": [],
   "source": [
    "from bs4 import BeautifulSoup\n",
    "import requests \n",
    "import pandas as pd\n",
    "from nltk.tokenize import RegexpTokenizer\n",
    "from nltk.corpus import stopwords\n",
    "from farasa.stemmer import FarasaStemmer\n",
    "from sklearn.feature_extraction.text import CountVectorizer\n",
    "from sklearn.neighbors import NearestNeighbors\n",
    "from app import TextClassification"
   ]
  },
  {
   "cell_type": "markdown",
   "id": "99975847",
   "metadata": {},
   "source": [
    "> __Scraping Final Functions__"
   ]
  },
  {
   "cell_type": "code",
   "execution_count": 26,
   "id": "a0653460",
   "metadata": {},
   "outputs": [],
   "source": [
    "def scrap(max_num = 10):\n",
    "    pnum = 1\n",
    "    y7_link = \"https://www.youm7.com\"\n",
    "\n",
    "    titles = []\n",
    "    dates = []\n",
    "    brief_articles = []\n",
    "    links = []\n",
    "    imgs = []\n",
    "\n",
    "    while pnum <= max_num:\n",
    "        result = requests.get(f\"https://www.youm7.com/Section/%D8%A3%D8%AE%D8%A8%D8%A7%D8%B1-%D8%A7%D9%84%D8%B1%D9%8A%D8%A7%D8%B6%D8%A9/298/{pnum}\")\n",
    "        src = result.content\n",
    "        soup = BeautifulSoup(src, \"lxml\")\n",
    "\n",
    "        for i in range(len(soup.find_all(\"div\", {\"class\" : \"col-xs-12 bigOneSec\"}))):\n",
    "            try:\n",
    "                titles.append(soup.find_all(\"div\", {\"class\" : \"col-xs-12 bigOneSec\"})[i].img.attrs[\"alt\"].strip())\n",
    "                dates.append(soup.find_all(\"div\", {\"class\" : \"col-xs-12 bigOneSec\"})[i].span.text.strip())\n",
    "                brief_articles.append(soup.find_all(\"div\", {\"class\" : \"col-xs-12 bigOneSec\"})[i].p.text.strip())\n",
    "                links.append(y7_link + soup.find_all(\"div\", {\"class\" : \"col-xs-12 bigOneSec\"})[i].a.attrs[\"href\"].strip())\n",
    "                imgs.append(soup.find_all(\"div\", {\"class\" : \"col-xs-12 bigOneSec\"})[i].find(\"img\").attrs['src'])\n",
    "                \n",
    "            except:\n",
    "                print(i, 'are passed')\n",
    "        \n",
    "        pnum += 1  # end of while loop\n",
    "      \n",
    "    dic = {\n",
    "    'titles' : titles,\n",
    "    'dates': dates,\n",
    "    'brief_articles': brief_articles,\n",
    "    'links': links,\n",
    "    'imgs': imgs   \n",
    "    }\n",
    "    \n",
    "    df = pd.DataFrame(dic)\n",
    "    \n",
    "    creators = []\n",
    "    key_words = []\n",
    "    for link in df.links:\n",
    "        result = requests.get(link)\n",
    "        src = result.content\n",
    "        soup = BeautifulSoup(src, \"lxml\")\n",
    "        creator = soup.find(\"span\", {\"class\" : \"writeBy\"}).text.strip().split()[:]\n",
    "\n",
    "        for c in [\"كتبت\" ,\"كتب\" ,\"إعداد\"] :\n",
    "             if c in creator:\n",
    "                    creator = creator[1:]\n",
    "        keys = []\n",
    "        for k in soup.find(\"div\", {\"class\": \"tags\"}).find_all(\"h3\"):\n",
    "            keys.append(k.a.text.strip())\n",
    "\n",
    "        key_words.append(\" \".join(keys))\n",
    "        creators.append(\" \".join(creator))\n",
    "\n",
    "    df[\"key_words\"] = key_words\n",
    "    df[\"creators\"] = creators\n",
    "    df[\"text\"] = df.titles + \" \" + df.creators + \" \" + df.key_words + \" \" + df.brief_articles\n",
    "    \n",
    "    df.drop_duplicates(inplace = True)\n",
    "    return df"
   ]
  },
  {
   "cell_type": "code",
   "execution_count": 27,
   "id": "51487abd",
   "metadata": {},
   "outputs": [],
   "source": [
    "df = scrap(1)"
   ]
  },
  {
   "cell_type": "code",
   "execution_count": 28,
   "id": "40830f5b",
   "metadata": {},
   "outputs": [],
   "source": [
    "df.to_csv('y7.csv')"
   ]
  },
  {
   "cell_type": "code",
   "execution_count": 5,
   "id": "ec7fd89d",
   "metadata": {},
   "outputs": [],
   "source": [
    "class TextClassification:\n",
    "    def __init__(self, df = None):\n",
    "        self.df = df\n",
    "        self.tokenizer = RegexpTokenizer(r'\\w+')  # return alphanumerics only\n",
    "        self.fst = FarasaStemmer(interactive = True)  # farasa stemmer\n",
    "        self.cv = CountVectorizer()\n",
    "        self.nn = NearestNeighbors()\n",
    "        \n",
    "        self.apply_clean()\n",
    "        self.train()\n",
    "        \n",
    "    def clean(self, text):\n",
    "        cleaned = []\n",
    "        for w in self.tokenizer.tokenize(text):\n",
    "            if w in stopwords.words('Arabic') or len(w) == 1:\n",
    "                continue\n",
    "            w = self.fst.stem(w)\n",
    "            cleaned.append(w)\n",
    "        return ' '.join(cleaned)\n",
    "    \n",
    "    def apply_clean(self):\n",
    "        self.df['clean_text'] = self.df['text'].apply(self.clean)\n",
    "    \n",
    "    def train(self):\n",
    "        x = self.cv.fit_transform(self.df.clean_text).toarray()\n",
    "        self.nn.fit(x)\n",
    "        distances, indices = self.nn.kneighbors(x)\n",
    "        self.urls = pd.DataFrame(indices)\n",
    "        self.urls = self.urls.applymap(lambda x: self.df.iloc[x].links)\n",
    "        \n",
    "    def predict(self, url):\n",
    "        res = self.urls[self.urls[0] == url].values[0]\n",
    "        return res"
   ]
  },
  {
   "cell_type": "code",
   "execution_count": 6,
   "id": "74d79263",
   "metadata": {},
   "outputs": [],
   "source": [
    "df = pd.read_csv('y7.csv')"
   ]
  },
  {
   "cell_type": "code",
   "execution_count": 7,
   "id": "34cea353",
   "metadata": {},
   "outputs": [],
   "source": [
    "df.drop('Unnamed: 0', axis=1, inplace=True) "
   ]
  },
  {
   "cell_type": "code",
   "execution_count": 8,
   "id": "c4c5aa75",
   "metadata": {},
   "outputs": [
    {
     "name": "stderr",
     "output_type": "stream",
     "text": [
      "[2022-04-30 15:21:32,679 - farasapy_logger - WARNING]: Be careful with large lines as they may break on interactive mode. You may switch to Standalone mode for such cases.\n"
     ]
    }
   ],
   "source": [
    "tc = TextClassification(df)"
   ]
  },
  {
   "cell_type": "code",
   "execution_count": 9,
   "id": "17dd75cc",
   "metadata": {},
   "outputs": [
    {
     "data": {
      "text/plain": [
       "array(['https://www.youm7.com/story/2022/4/28/الجهاز-الفنى-للمقاولون-يتابع-لقاء-المصرى-والزمالك-استعداداً-لموقعة-الأحد/5743171',\n",
       "       'https://www.youm7.com/story/2022/4/28/مدرب-سيراميكا-جاهزون-للفوز-على-الأهلى-فى-المباراة-القادمة/5743645',\n",
       "       'https://www.youm7.com/story/2022/4/28/أهداف-مباراة-بيراميدز-وسيراميكا-بالدورى/5743600',\n",
       "       'https://www.youm7.com/story/2022/4/28/هيثم-شعبان-رحيلى-عن-سيراميكا-شائعات-والفوز-على-بيراميدز-مهم/5743606',\n",
       "       'https://www.youm7.com/story/2022/4/28/سيراميكا-يحقق-أول-فوز-فى-2022-بعد-غياب-13-مباراة/5743596'],\n",
       "      dtype=object)"
      ]
     },
     "execution_count": 9,
     "metadata": {},
     "output_type": "execute_result"
    }
   ],
   "source": [
    "tc.predict('https://www.youm7.com/story/2022/4/28/الجهاز-الفنى-للمقاولون-يتابع-لقاء-المصرى-والزمالك-استعداداً-لموقعة-الأحد/5743171')"
   ]
  },
  {
   "cell_type": "code",
   "execution_count": 12,
   "id": "90ef99c2",
   "metadata": {},
   "outputs": [
    {
     "data": {
      "text/html": [
       "<div>\n",
       "<style scoped>\n",
       "    .dataframe tbody tr th:only-of-type {\n",
       "        vertical-align: middle;\n",
       "    }\n",
       "\n",
       "    .dataframe tbody tr th {\n",
       "        vertical-align: top;\n",
       "    }\n",
       "\n",
       "    .dataframe thead th {\n",
       "        text-align: right;\n",
       "    }\n",
       "</style>\n",
       "<table border=\"1\" class=\"dataframe\">\n",
       "  <thead>\n",
       "    <tr style=\"text-align: right;\">\n",
       "      <th></th>\n",
       "      <th>titles</th>\n",
       "      <th>dates</th>\n",
       "      <th>brief_articles</th>\n",
       "      <th>links</th>\n",
       "      <th>imgs</th>\n",
       "      <th>key_words</th>\n",
       "      <th>creators</th>\n",
       "      <th>text</th>\n",
       "      <th>clean_text</th>\n",
       "    </tr>\n",
       "  </thead>\n",
       "  <tbody>\n",
       "    <tr>\n",
       "      <th>0</th>\n",
       "      <td>الجهاز الفنى للمقاولون يتابع لقاء المصرى والزم...</td>\n",
       "      <td>الخميس، 28 أبريل 2022 04:00 ص</td>\n",
       "      <td>أغلق الجهاز الفني لفريق المقاولون العرب، صفحة ...</td>\n",
       "      <td>https://www.youm7.com/story/2022/4/28/الجهاز-ا...</td>\n",
       "      <td>https://img.youm7.com/medium/20220117121948194...</td>\n",
       "      <td>محمد عودة المقاولون اخبار المقاولون المقاولون ...</td>\n",
       "      <td>أسماء عمر</td>\n",
       "      <td>الجهاز الفنى للمقاولون يتابع لقاء المصرى والزم...</td>\n",
       "      <td>جهاز فنى مقاولون تابع لقاء مصرى زمالك استعداد ...</td>\n",
       "    </tr>\n",
       "  </tbody>\n",
       "</table>\n",
       "</div>"
      ],
      "text/plain": [
       "                                              titles  \\\n",
       "0  الجهاز الفنى للمقاولون يتابع لقاء المصرى والزم...   \n",
       "\n",
       "                           dates  \\\n",
       "0  الخميس، 28 أبريل 2022 04:00 ص   \n",
       "\n",
       "                                      brief_articles  \\\n",
       "0  أغلق الجهاز الفني لفريق المقاولون العرب، صفحة ...   \n",
       "\n",
       "                                               links  \\\n",
       "0  https://www.youm7.com/story/2022/4/28/الجهاز-ا...   \n",
       "\n",
       "                                                imgs  \\\n",
       "0  https://img.youm7.com/medium/20220117121948194...   \n",
       "\n",
       "                                           key_words   creators  \\\n",
       "0  محمد عودة المقاولون اخبار المقاولون المقاولون ...  أسماء عمر   \n",
       "\n",
       "                                                text  \\\n",
       "0  الجهاز الفنى للمقاولون يتابع لقاء المصرى والزم...   \n",
       "\n",
       "                                          clean_text  \n",
       "0  جهاز فنى مقاولون تابع لقاء مصرى زمالك استعداد ...  "
      ]
     },
     "execution_count": 12,
     "metadata": {},
     "output_type": "execute_result"
    }
   ],
   "source": [
    "df[df.links == 'https://www.youm7.com/story/2022/4/28/الجهاز-الفنى-للمقاولون-يتابع-لقاء-المصرى-والزمالك-استعداداً-لموقعة-الأحد/5743171']"
   ]
  },
  {
   "cell_type": "code",
   "execution_count": 3,
   "id": "6b50a24b",
   "metadata": {},
   "outputs": [],
   "source": [
    "df = pd.read_csv(\"y7.csv\")"
   ]
  },
  {
   "cell_type": "code",
   "execution_count": 4,
   "id": "7cc8854b",
   "metadata": {},
   "outputs": [
    {
     "data": {
      "text/plain": [
       "0     https://www.youm7.com/story/2022/4/30/الاتحاد-...\n",
       "1     https://www.youm7.com/story/2022/4/30/7-أخبار-...\n",
       "2     https://www.youm7.com/story/2022/4/30/نوستالجي...\n",
       "3     https://www.youm7.com/story/2022/4/30/هيثم-شعب...\n",
       "4     https://www.youm7.com/story/2022/4/30/موعد-مبا...\n",
       "5     https://www.youm7.com/story/2022/4/30/المصرى-ي...\n",
       "6     https://www.youm7.com/story/2022/4/30/كل-ما-تر...\n",
       "7     https://www.youm7.com/story/2022/4/30/مدرب-الإ...\n",
       "8     https://www.youm7.com/story/2022/4/30/رياضيون-...\n",
       "9     https://www.youm7.com/story/2022/4/30/أسباب-اس...\n",
       "10    https://www.youm7.com/story/2022/4/30/سيراميكا...\n",
       "11    https://www.youm7.com/story/2022/4/30/التشكيل-...\n",
       "12    https://www.youm7.com/story/2022/4/30/بره-المل...\n",
       "13    https://www.youm7.com/story/2022/4/30/الإسماعي...\n",
       "14    https://www.youm7.com/story/2022/4/30/بيراميدز...\n",
       "15    https://www.youm7.com/story/2022/4/30/بالأرقام...\n",
       "16    https://www.youm7.com/story/2022/4/30/ماذا-قدم...\n",
       "17    https://www.youm7.com/story/2022/4/30/اعرف-قان...\n",
       "18    https://www.youm7.com/story/2022/4/30/3-لاعبات...\n",
       "19    https://www.youm7.com/story/2022/4/30/زى-النها...\n",
       "20    https://www.youm7.com/story/2022/4/30/ماذا-يفع...\n",
       "21    https://www.youm7.com/story/2022/4/30/محمد-الك...\n",
       "22    https://www.youm7.com/story/2022/4/30/فيريرا-م...\n",
       "23    https://www.youm7.com/story/2022/4/30/تاريخ-مو...\n",
       "24    https://www.youm7.com/story/2022/4/30/جدول-ترت...\n",
       "25    https://www.youm7.com/story/2022/4/30/كواليس-غ...\n",
       "26    https://www.youm7.com/story/2022/4/30/معلومات-...\n",
       "27    https://www.youm7.com/story/2022/4/30/ماذا-فعل...\n",
       "28    https://www.youm7.com/story/2022/4/30/سيدات-طا...\n",
       "29    https://www.youm7.com/story/2022/4/30/نجم-الإس...\n",
       "30    https://www.youm7.com/story/2022/4/30/10-لاعبي...\n",
       "31    https://www.youm7.com/story/2022/4/30/موعد-مبا...\n",
       "32    https://www.youm7.com/story/2022/4/30/تعرف-على...\n",
       "33    https://www.youm7.com/story/2022/4/30/اتحاد-ال...\n",
       "34    https://www.youm7.com/story/2022/4/30/ماذا-قدم...\n",
       "35    https://www.youm7.com/story/2022/4/30/جدول-ترت...\n",
       "36    https://www.youm7.com/story/2022/4/30/زى-النها...\n",
       "37    https://www.youm7.com/story/2022/4/30/اتحاد-ال...\n",
       "38    https://www.youm7.com/story/2022/4/30/موعد-مبا...\n",
       "39    https://www.youm7.com/story/2022/4/30/قصة-صور-...\n",
       "Name: links, dtype: object"
      ]
     },
     "execution_count": 4,
     "metadata": {},
     "output_type": "execute_result"
    }
   ],
   "source": [
    "df.links"
   ]
  },
  {
   "cell_type": "code",
   "execution_count": 6,
   "id": "96f72efb",
   "metadata": {},
   "outputs": [
    {
     "data": {
      "text/plain": [
       "'https://www.youm7.com/story/2022/4/30/الاتحاد-السكندرى-يبحث-عن-أول-فوز-فى-2022-أمام-المحلة/5746304'"
      ]
     },
     "execution_count": 6,
     "metadata": {},
     "output_type": "execute_result"
    }
   ],
   "source": [
    "df.links[0]"
   ]
  },
  {
   "cell_type": "code",
   "execution_count": 9,
   "id": "9cc524bd",
   "metadata": {},
   "outputs": [
    {
     "data": {
      "text/plain": [
       "False"
      ]
     },
     "execution_count": 9,
     "metadata": {},
     "output_type": "execute_result"
    }
   ],
   "source": [
    "'https://www.youm7.com/story/2022/4/30/الاتحاد-السكندرى-يبحث-عن-أول-فوز-فى-2022-أمام-المحلة/5746304' not in df.links"
   ]
  },
  {
   "cell_type": "code",
   "execution_count": null,
   "id": "e96dd912",
   "metadata": {},
   "outputs": [],
   "source": []
  }
 ],
 "metadata": {
  "kernelspec": {
   "display_name": "Python 3 (ipykernel)",
   "language": "python",
   "name": "python3"
  },
  "language_info": {
   "codemirror_mode": {
    "name": "ipython",
    "version": 3
   },
   "file_extension": ".py",
   "mimetype": "text/x-python",
   "name": "python",
   "nbconvert_exporter": "python",
   "pygments_lexer": "ipython3",
   "version": "3.9.7"
  }
 },
 "nbformat": 4,
 "nbformat_minor": 5
}
