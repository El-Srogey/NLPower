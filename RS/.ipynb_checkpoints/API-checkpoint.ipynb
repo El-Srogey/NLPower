{
 "cells": [
  {
   "cell_type": "code",
   "execution_count": 11,
   "id": "89dd349b",
   "metadata": {},
   "outputs": [],
   "source": [
    "from flask import Flask, jsonify, request\n",
    "import json\n",
    "import pandas as pd"
   ]
  },
  {
   "cell_type": "code",
   "execution_count": 3,
   "id": "95d39a5c",
   "metadata": {},
   "outputs": [],
   "source": [
    "from app import TextClassification"
   ]
  },
  {
   "cell_type": "code",
   "execution_count": 6,
   "id": "72ee0fa9",
   "metadata": {},
   "outputs": [],
   "source": [
    "df = pd.read_csv('y7.csv')"
   ]
  },
  {
   "cell_type": "code",
   "execution_count": 16,
   "id": "a068b60c",
   "metadata": {},
   "outputs": [
    {
     "name": "stderr",
     "output_type": "stream",
     "text": [
      "[2022-04-27 02:18:38,412 - farasapy_logger - WARNING]: Be careful with large lines as they may break on interactive mode. You may switch to Standalone mode for such cases.\n"
     ]
    }
   ],
   "source": [
    "tc = TextClassification(df)"
   ]
  },
  {
   "cell_type": "code",
   "execution_count": 19,
   "id": "fae9847d",
   "metadata": {},
   "outputs": [
    {
     "name": "stdout",
     "output_type": "stream",
     "text": [
      " * Serving Flask app \"__main__\" (lazy loading)\n",
      " * Environment: production\n",
      "\u001b[31m   WARNING: This is a development server. Do not use it in a production deployment.\u001b[0m\n",
      "\u001b[2m   Use a production WSGI server instead.\u001b[0m\n",
      " * Debug mode: off\n"
     ]
    },
    {
     "name": "stderr",
     "output_type": "stream",
     "text": [
      " * Running on http://127.0.0.1:5000/ (Press CTRL+C to quit)\n",
      "127.0.0.1 - - [27/Apr/2022 02:21:48] \"GET / HTTP/1.1\" 200 -\n",
      "127.0.0.1 - - [27/Apr/2022 02:22:02] \"GET /predict?url=https://www.youm7.com/story/2022/4/26/الأهلى-يهزم-هليوبوليس-فى-إنطلاق-سوبر-اليد/5742308 HTTP/1.1\" 200 -\n"
     ]
    },
    {
     "name": "stdout",
     "output_type": "stream",
     "text": [
      "['https://www.youm7.com/story/2022/4/26/الأهلى-يهزم-هليوبوليس-فى-إنطلاق-سوبر-اليد/5742308'\n",
      " 'https://www.youm7.com/story/2022/4/27/الاتحاد-يتأهل-لنهائي-دورى-السلة-بعد-الفوز-على-الزمالك/5742368'\n",
      " 'https://www.youm7.com/story/2022/4/26/الزمالك-يتوجه-للإسكندرية-فى-الثالثة-عصر-غد-استعدادا-للمصرى/5742095'\n",
      " 'https://www.youm7.com/story/2022/4/27/عدم-الجاهزية-البدنية-وراء-استبعاد-عبد-الشافى-وجمعة-من-مواجهة/5742402'\n",
      " 'https://www.youm7.com/story/2022/4/27/الإسماعيلي-يكشف-موقف-محمد-هاشم-من-مواجهة-الطلائع/5742418']\n",
      "<class 'numpy.ndarray'>\n"
     ]
    }
   ],
   "source": [
    "app = Flask(__name__)\n",
    "\n",
    "@app.route(\"/\")\n",
    "def main():\n",
    "    return \"Hello! ... Run Predict Route\"\n",
    "\n",
    "@app.route(\"/predict\")\n",
    "def predict():\n",
    "    url = request.args['url']  # get request  ---> there're other type called post request\n",
    "    res_urls = tc.predict(url)\n",
    "    \n",
    "#     print(res_urls)\n",
    "#     print(type(res_urls))\n",
    "    \n",
    "    data = {\n",
    "        'Target URL' : res_urls[0],\n",
    "        'URL1' : res_urls[1],\n",
    "        'URL2' : res_urls[2],\n",
    "        'URL3' : res_urls[3],\n",
    "        'URL4' : res_urls[4]\n",
    "    }\n",
    "    return jsonify(data)\n",
    "\n",
    "app.run()"
   ]
  },
  {
   "cell_type": "code",
   "execution_count": null,
   "id": "09482a6c",
   "metadata": {},
   "outputs": [],
   "source": []
  }
 ],
 "metadata": {
  "kernelspec": {
   "display_name": "Python 3 (ipykernel)",
   "language": "python",
   "name": "python3"
  },
  "language_info": {
   "codemirror_mode": {
    "name": "ipython",
    "version": 3
   },
   "file_extension": ".py",
   "mimetype": "text/x-python",
   "name": "python",
   "nbconvert_exporter": "python",
   "pygments_lexer": "ipython3",
   "version": "3.9.7"
  }
 },
 "nbformat": 4,
 "nbformat_minor": 5
}
